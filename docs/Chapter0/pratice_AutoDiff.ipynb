{
 "cells": [
  {
   "cell_type": "markdown",
   "metadata": {},
   "source": [
    "# Practice: Automatic Differentiation\n",
    "JAX를 통해 연습하겠습니다."
   ]
  },
  {
   "cell_type": "code",
   "execution_count": null,
   "metadata": {},
   "outputs": [],
   "source": [
    "import jax  # AD library JAX를 import 합니다.\n",
    "import jax.numpy as jnp  # jnp는 numpy와 \"거의\" 같습니다."
   ]
  },
  {
   "cell_type": "markdown",
   "metadata": {},
   "source": [
    "## 속도 비교\n",
    "[여기](speed-forward-vs-reverse)에서 설명되었듯이,\n",
    "{math}`d_\\mathrm{in} < d_\\mathrm{out}`인 경우 forward mode가 빠르고\n",
    "반대의 경우 reverse mode가 빠릅니다.\n",
    "\n",
    "먼저 {math}`d_\\mathrm{in} < d_\\mathrm{out}`인 경우를 테스트 하겠습니다."
   ]
  },
  {
   "cell_type": "code",
   "execution_count": null,
   "metadata": {},
   "outputs": [],
   "source": [
    "def f(x: float): \n",
    "    # scalar를 받아서 [1, x, ..., x^9999]를 리턴하는 함수, d_in < d_out\n",
    "    return jnp.power(x, jnp.arange(10000))\n",
    "\n",
    "f_fwd = jax.jacfwd(f)\n",
    "f_rev = jax.jacrev(f)\n",
    "x = 1.0"
   ]
  },
  {
   "cell_type": "markdown",
   "metadata": {},
   "source": [
    "함수 `f`의 경우 $d_\\mathrm{in} = 1 \\ll d_\\mathrm{out} = 10^4$ 이므로, forward mode로 미분한 함수 `f_fwd`가 reverse mode로 미분한 함수 `f_rev`보다 빨라야 합니다.\n",
    "\n",
    "```{prf:remark}\n",
    "시간을 잴 함수를 `jax.jit`에 통과시키면 JIT 컴파일이 되고, 계산 속도가 빨리집니다.\n",
    "```"
   ]
  },
  {
   "cell_type": "code",
   "execution_count": 2,
   "metadata": {},
   "outputs": [
    {
     "name": "stdout",
     "output_type": "stream",
     "text": [
      "4.55 ms ± 599 μs per loop (mean ± std. dev. of 7 runs, 1 loop each)\n"
     ]
    }
   ],
   "source": [
    "f_fwd = jax.jit(f_fwd) # compile\n",
    "f_fwd(x) # warmup\n",
    "%timeit f_fwd(x).block_until_ready()"
   ]
  },
  {
   "cell_type": "code",
   "execution_count": 3,
   "metadata": {},
   "outputs": [
    {
     "name": "stdout",
     "output_type": "stream",
     "text": [
      "10.8 ms ± 338 μs per loop (mean ± std. dev. of 7 runs, 1 loop each)\n"
     ]
    }
   ],
   "source": [
    "f_rev = jax.jit(f_rev)\n",
    "f_rev(x)\n",
    "%timeit f_rev(x).block_until_ready()"
   ]
  },
  {
   "cell_type": "code",
   "execution_count": null,
   "metadata": {},
   "outputs": [],
   "source": [
    "def g(y: jnp.ndarray):\n",
    "    # array를 받아서 제곱한 후 평균을 취하는 함수, d_in > d_out\n",
    "    return (y**2).mean()\n",
    "\n",
    "g_fwd = jax.jacfwd(g)\n",
    "g_rev = jax.jacrev(g)\n",
    "y = jnp.ones((10000,))"
   ]
  },
  {
   "cell_type": "markdown",
   "metadata": {},
   "source": [
    "`f_fwd`가 약 두배 정도 빠른 것을 볼 수 있습니다.\n",
    "\n",
    "반면, 함수 `g`의 경우 $d_\\mathrm{in} = 10^4 \\gg d_\\mathrm{out} = 1$ 이므로, reverse mode로 미분한 함수 `g_rev`가 forward mode로 미분한 함수 `g_fwd` 보다 빨라야 합니다."
   ]
  },
  {
   "cell_type": "code",
   "execution_count": 4,
   "metadata": {},
   "outputs": [
    {
     "name": "stdout",
     "output_type": "stream",
     "text": [
      "11.9 ms ± 101 μs per loop (mean ± std. dev. of 7 runs, 1 loop each)\n"
     ]
    }
   ],
   "source": [
    "g_fwd = jax.jit(g_fwd)\n",
    "g_fwd(y)\n",
    "%timeit g_fwd(y).block_until_ready()"
   ]
  },
  {
   "cell_type": "code",
   "execution_count": 5,
   "metadata": {},
   "outputs": [
    {
     "name": "stdout",
     "output_type": "stream",
     "text": [
      "6.52 ms ± 452 μs per loop (mean ± std. dev. of 7 runs, 1 loop each)\n"
     ]
    }
   ],
   "source": [
    "g_rev = jax.jit(g_rev)\n",
    "g_rev(y)\n",
    "%timeit g_rev(y).block_until_ready()"
   ]
  },
  {
   "cell_type": "markdown",
   "metadata": {},
   "source": [
    "`g_rev`가 약 두배 정도 빠른 것을 볼 수 있습니다.\n",
    "\n"
   ]
  }
 ],
 "metadata": {
  "kernelspec": {
   "display_name": "mas557",
   "language": "python",
   "name": "python3"
  },
  "language_info": {
   "codemirror_mode": {
    "name": "ipython",
    "version": 3
   },
   "file_extension": ".py",
   "mimetype": "text/x-python",
   "name": "python",
   "nbconvert_exporter": "python",
   "pygments_lexer": "ipython3",
   "version": "3.12.4"
  }
 },
 "nbformat": 4,
 "nbformat_minor": 2
}
