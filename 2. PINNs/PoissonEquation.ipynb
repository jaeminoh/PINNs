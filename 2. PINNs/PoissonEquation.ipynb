{
 "cells": [
  {
   "cell_type": "markdown",
   "metadata": {},
   "source": [
    "# Practice: Poisson equation\n",
    "\n",
    "\"L\" shaped region $(-1, 1)^2 \\setminus (0, 1)^2$ 위에서 정의된 Poisson equation\n",
    "$$\n",
    "-\\Delta u = 1,\n",
    "$$\n",
    "을 고려하겠습니다.\n",
    "Boundary condition은 zero Dirichlet 입니다."
   ]
  },
  {
   "cell_type": "code",
   "execution_count": null,
   "metadata": {},
   "outputs": [],
   "source": [
    "import jax\n",
    "import jax.numpy as jnp\n",
    "import jax.random as jr\n",
    "# double precision\n",
    "jax.config.update(\"jax_enable_x64\", True)"
   ]
  },
  {
   "cell_type": "markdown",
   "metadata": {},
   "source": [
    "Multi-layer perceptron을 정의합니다."
   ]
  },
  {
   "cell_type": "code",
   "execution_count": null,
   "metadata": {},
   "outputs": [],
   "source": [
    "def MLP(layers: list[int] = [1, 64, 1], activation: callable = jnp.tanh):\n",
    "    def init_params(key):\n",
    "        def _init(key, d_in, d_out):\n",
    "            w = jr.normal(key, shape=(d_in, d_out)) * jnp.sqrt(2 / (d_in + d_out))\n",
    "            b = jnp.zeros((d_out,))\n",
    "            return [w, b]\n",
    "\n",
    "        keys = jr.split(key, len(layers) - 1)\n",
    "        params = list(map(_init, keys, layers[:-1], layers[1:]))\n",
    "        return params\n",
    "\n",
    "    def apply(params, inputs):\n",
    "        for W, b in params[:-1]:\n",
    "            outputs = inputs @ W + b\n",
    "            inputs = activation(outputs)\n",
    "        W, b = params[-1]\n",
    "        outputs = inputs @ W + b\n",
    "        return outputs\n",
    "    \n",
    "    return init_params, apply"
   ]
  },
  {
   "cell_type": "markdown",
   "metadata": {},
   "source": [
    "PINN loss function을 계산하기 위해 domain으로부터 collocation points를 sampling 합니다.\n",
    "균일하게 sampling하기 위해서 Sobol sequence를 사용합니다."
   ]
  },
  {
   "cell_type": "code",
   "execution_count": null,
   "metadata": {},
   "outputs": [],
   "source": [
    "from scipy.stats.qmc import Sobol\n",
    "\n",
    "\n",
    "def sampling_interior(m: int = 9):\n",
    "    sobol = Sobol(d=2)\n",
    "    # sampling 3 * 2^m points\n",
    "    xy1 = sobol.random_base2(m)\n",
    "    sobol.reset()\n",
    "    xy2 = sobol.random_base2(m)\n",
    "    sobol.reset()\n",
    "    xy3 = sobol.random_base2(m)\n",
    "    sobol.reset()\n",
    "    xy1[:, 0] = xy1[:, 0] - 1.0\n",
    "    xy2 = xy2 - 1\n",
    "    xy3[:, 1] = xy3[:, 1] - 1.0\n",
    "    xy_interior = jnp.concatenate([xy1, xy2, xy3])\n",
    "    return xy_interior\n",
    "\n",
    "def sampling_boundary(m: int = 8):\n",
    "    sobol = Sobol(d=1)\n",
    "    # sampling 6 * 2^m points\n",
    "    N = 2**m\n",
    "    # x\n",
    "    x1 = jnp.stack([sobol.random_base2(m).squeeze() * 2 - 1, -1 * jnp.ones((N,))], 1)\n",
    "    sobol.reset()\n",
    "    x2 = jnp.stack([sobol.random_base2(m).squeeze() - 1, jnp.ones((N,))], 1)\n",
    "    sobol.reset()\n",
    "    x3 = jnp.stack([sobol.random_base2(m).squeeze(), jnp.zeros((N,))], 1)\n",
    "    sobol.reset()\n",
    "    # y\n",
    "    y1 = jnp.stack(\n",
    "        [\n",
    "            -1 * jnp.ones((N,)),\n",
    "            sobol.random_base2(m).squeeze() * 2 - 1,\n",
    "        ],\n",
    "        1,\n",
    "    )\n",
    "    sobol.reset()\n",
    "    y2 = jnp.stack([jnp.zeros((N,)), sobol.random_base2(m).squeeze()], 1)\n",
    "    sobol.reset()\n",
    "    y3 = jnp.stack([jnp.ones((N,)), sobol.random_base2(m).squeeze() - 1], 1)\n",
    "    sobol.reset()\n",
    "    xy_boundary = jnp.concatenate([x1, x2, x3, y1, y2, y3])\n",
    "    return xy_boundary\n",
    "\n",
    "xy_in = sampling_interior()\n",
    "xy_b = sampling_boundary()"
   ]
  },
  {
   "cell_type": "markdown",
   "metadata": {},
   "source": [
    "PINN loss function을 계산하기 위해 neural network의 spatial gradients를 계산합니다."
   ]
  },
  {
   "cell_type": "code",
   "execution_count": null,
   "metadata": {},
   "outputs": [],
   "source": [
    "init, apply = MLP([2, 50, 50, 50, 50, 1], jnp.tanh)\n",
    "\n",
    "def pinn(params, x, y):\n",
    "    inputs = jnp.stack([x, y])\n",
    "    pinn = apply(params, inputs).squeeze()  # scalar\n",
    "    return pinn\n",
    "\n",
    "def pinn_x(params, x, y):\n",
    "    return jax.jacfwd(pinn, 1)(params, x, y)\n",
    "\n",
    "def pinn_xx(params, x, y):\n",
    "    return jax.jacfwd(pinn_x, 1)(params, x, y)\n",
    "\n",
    "def pinn_y(params, x, y):\n",
    "    return jax.jacfwd(pinn, 2)(params, x, y)\n",
    "\n",
    "def pinn_yy(params, x, y):\n",
    "    return jax.jacfwd(pinn_y, 2)(params, x, y)\n"
   ]
  },
  {
   "cell_type": "markdown",
   "metadata": {},
   "source": [
    "PINN loss의 component를 계산하기 위한 함수, 그리고 PINN loss를 정의합니다."
   ]
  },
  {
   "cell_type": "code",
   "execution_count": null,
   "metadata": {},
   "outputs": [],
   "source": [
    "def pde(params, xy_in):\n",
    "    x, y = xy_in\n",
    "    u_xx = pinn_xx(params, x, y)\n",
    "    u_yy = pinn_yy(params, x, y)\n",
    "    return u_xx + u_yy + 1\n",
    "\n",
    "\n",
    "def bc(params, xy_b):\n",
    "    x, y = xy_b\n",
    "    u = pinn(params, x, y)\n",
    "    return u\n",
    "\n",
    "\n",
    "def loss(params, xy_in, xy_b):\n",
    "    pde_res = jax.vmap(pde, in_axes=(None, 0))(params, xy_in)\n",
    "    bc_res = jax.vmap(bc, in_axes=(None, 0))(params, xy_b)\n",
    "    pde_loss = (pde_res**2).mean()\n",
    "    bc_loss = (bc_res**2).mean()\n",
    "    return pde_loss + 1e2 * bc_loss, (pde_loss, bc_loss)"
   ]
  },
  {
   "cell_type": "markdown",
   "metadata": {},
   "source": [
    "Optimization을 준비하는 코드입니다."
   ]
  },
  {
   "cell_type": "code",
   "execution_count": null,
   "metadata": {},
   "outputs": [],
   "source": [
    "import jaxopt\n",
    "\n",
    "nIter = 10000\n",
    "\n",
    "# lbfgs\n",
    "opt = jaxopt.LBFGS(loss, has_aux=True)\n",
    "\n",
    "# initialize\n",
    "params = init(jr.PRNGKey(0))\n",
    "state = opt.init_state(params, xy_in, xy_b)\n",
    "\n",
    "\n",
    "@jax.jit\n",
    "def step(params, state, xy_in=xy_in, xy_b=xy_b):\n",
    "    params, state = opt.update(params, state, xy_in, xy_b)\n",
    "    return params, state"
   ]
  },
  {
   "cell_type": "markdown",
   "metadata": {},
   "source": [
    "Optimization을 실행하는 코드입니다."
   ]
  },
  {
   "cell_type": "code",
   "execution_count": 6,
   "metadata": {},
   "outputs": [],
   "source": [
    "import time\n",
    "\n",
    "\n",
    "loss_total, loss_pde, loss_bc = [], [], []\n",
    "print(\"Solving...\")\n",
    "tic = time.time()\n",
    "for it in range(1, 1 + nIter):\n",
    "    params, state = step(params, state)\n",
    "    if it % 100 == 0:\n",
    "        total_loss = state.value\n",
    "        pde_loss, bc_loss = state.aux\n",
    "        loss_total.append(total_loss)\n",
    "        loss_pde.append(pde_loss)\n",
    "        loss_bc.append(bc_loss)\n",
    "        print(f\"it: {it}, loss: {total_loss:.3e}\")\n",
    "toc = time.time()\n",
    "print(f\"Done! Elapsed time: {toc - tic:.2f}\")"
   ]
  },
  {
   "cell_type": "markdown",
   "metadata": {},
   "source": [
    "결과를 시각화하는 코드입니다."
   ]
  },
  {
   "cell_type": "code",
   "execution_count": null,
   "metadata": {},
   "outputs": [],
   "source": [
    "import matplotlib.pyplot as plt\n",
    "\n",
    "\n",
    "_, (ax0, ax1) = plt.subplots(ncols=2, figsize=(8, 4))\n",
    "ax0.semilogy(loss_total, label=r\"$\\mathcal{L}_\\mathrm{PINN}$\")\n",
    "ax0.semilogy(loss_pde, \"--\", label=r\"$\\mathcal{L}_\\mathrm{pde}$\")\n",
    "ax0.semilogy(loss_bc, \":\", label=r\"$\\mathcal{L}_\\mathrm{bc}$\")\n",
    "ax0.legend()\n",
    "ax0.set_title(\"PINN\")\n",
    "\n",
    "x, y = xy_in[:, 0], xy_in[:, 1]\n",
    "u_pred = jax.vmap(pinn, (None, 0, 0))(params, x, y)\n",
    "ax1.tricontourf(x, y, u_pred, cmap=\"jet\")\n",
    "ax1.set_title(r\"$u_\\theta$\")\n",
    "ax1.set_xlabel(r\"$x$\")\n",
    "ax1.set_ylabel(r\"$y$\")\n",
    "\n",
    "plt.tight_layout()\n",
    "plt.savefig(\"figures/poisson2d\", dpi=300)"
   ]
  }
 ],
 "metadata": {
  "kernelspec": {
   "display_name": "sciml",
   "language": "python",
   "name": "python3"
  },
  "language_info": {
   "codemirror_mode": {
    "name": "ipython",
    "version": 3
   },
   "file_extension": ".py",
   "mimetype": "text/x-python",
   "name": "python",
   "nbconvert_exporter": "python",
   "pygments_lexer": "ipython3",
   "version": "3.12.4"
  }
 },
 "nbformat": 4,
 "nbformat_minor": 2
}
