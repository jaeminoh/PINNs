{
 "cells": [
  {
   "cell_type": "markdown",
   "metadata": {},
   "source": [
    "# Practice: Neural Networks\n",
    "많은 deep learning library에는 다양한 구조의 인공신경망들이 구현되어 있습니다.\n",
    "실제로 deep learning을 적용할 때는 library에서 불러와 사용하면 됩니다.\n",
    "하지만, 이해를 돕기 위해서 `numpy`로 연습해 보겠습니다."
   ]
  },
  {
   "cell_type": "code",
   "execution_count": 1,
   "metadata": {},
   "outputs": [],
   "source": [
    "# python으로 수치 계산을 하면서 numpy를 사용하지 않는 경우는 거의 없습니다.\n",
    "import numpy as np"
   ]
  },
  {
   "cell_type": "markdown",
   "metadata": {},
   "source": [
    "{math}`[50, 100, 33, 25]` 구조를 가지고 hyperbolic tangent activation function을 가진 MLP를 만들어 보겠습니다.\n",
    "먼저 network parameters $\\theta$를 만듭니다. 이를 `params`라고 하겠습니다."
   ]
  },
  {
   "cell_type": "code",
   "execution_count": 5,
   "metadata": {},
   "outputs": [],
   "source": [
    "layers = [50, 100, 33, 25]\n",
    "\n",
    "W1 = np.random.randn(100, 50)\n",
    "b1 = np.random.randn(100)\n",
    "\n",
    "W2 = np.random.randn(33, 100)\n",
    "b2 = np.random.randn(33)\n",
    "\n",
    "W3 = np.random.randn(25, 33)\n",
    "b3 = np.random.randn(25)\n",
    "\n",
    "params = [[W1, b1], [W2, b2], [W3, b3]]"
   ]
  },
  {
   "cell_type": "markdown",
   "metadata": {},
   "source": [
    "위 코드는 다음과 같이 짧게 작성할 수 있습니다."
   ]
  },
  {
   "cell_type": "code",
   "execution_count": 8,
   "metadata": {},
   "outputs": [],
   "source": [
    "layers = [50, 100, 33, 25]\n",
    "params = [\n",
    "    [np.random.randn(d_out, d_in), np.random.randn(d_out)]\n",
    "    for d_in, d_out in zip(layers[:-1], layers[1:])\n",
    "]"
   ]
  },
  {
   "cell_type": "markdown",
   "metadata": {},
   "source": [
    "이제 MLP 함수를 정의하겠습니다."
   ]
  },
  {
   "cell_type": "code",
   "execution_count": 9,
   "metadata": {},
   "outputs": [],
   "source": [
    "def MLP(params, x, activation=np.tanh):\n",
    "    # x가 scalar, 즉 () 모양인 경우 length 1 vector (1,)로 바꿔줍니다.\n",
    "    x = np.atleast_1d(x)\n",
    "\n",
    "    # Affine transformation과 activation function의 합성을 d-1번.\n",
    "    for W, b in params[:-1]:\n",
    "        # affine transformation\n",
    "        x = W @ x + b\n",
    "\n",
    "        # activation\n",
    "        x = activation(x)\n",
    "\n",
    "    # 마지막 d번째에는 보통 affine transformation만 합니다.\n",
    "    W, b = params[-1]\n",
    "    return W @ x + b"
   ]
  },
  {
   "cell_type": "markdown",
   "metadata": {},
   "source": [
    "함수를 계산해 보겠습니다."
   ]
  },
  {
   "cell_type": "code",
   "execution_count": 11,
   "metadata": {},
   "outputs": [
    {
     "name": "stdout",
     "output_type": "stream",
     "text": [
      "(25,)\n"
     ]
    }
   ],
   "source": [
    "x = np.random.randn(50)\n",
    "y = MLP(params, x)\n",
    "print(y.shape)"
   ]
  }
 ],
 "metadata": {
  "kernelspec": {
   "display_name": "mas557",
   "language": "python",
   "name": "python3"
  },
  "language_info": {
   "codemirror_mode": {
    "name": "ipython",
    "version": 3
   },
   "file_extension": ".py",
   "mimetype": "text/x-python",
   "name": "python",
   "nbconvert_exporter": "python",
   "pygments_lexer": "ipython3",
   "version": "3.12.4"
  }
 },
 "nbformat": 4,
 "nbformat_minor": 2
}
