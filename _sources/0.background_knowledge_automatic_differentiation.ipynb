{
 "cells": [
  {
   "cell_type": "markdown",
   "metadata": {},
   "source": [
    "# 배경 지식 - Automatic Differentiation\n",
    "Automatic differentiation (줄여서 AD)는 함수의 미분 값을 \"자동\"으로 계산해주는 알고리즘입니다.\n",
    "역전파 (backpropagation) 알고리즘으로 알고 계실 수도 있을 것 같습니다.\n",
    "하지만 둘은 다른 용어입니다."
   ]
  },
  {
   "cell_type": "markdown",
   "metadata": {},
   "source": [
    "## 두 가지 모드\n",
    "AD는 크게 두 가지 방법이 있습니다.\n",
    "Forward mode와 reverse mode입니다.\n",
    "효율적인 계산을 위해서 각 mode가 어떻게 동작하는지 알고, 상황에 따라 적절한 알고리즘을 선택해서 사용할 필요가 있습니다.\n",
    "결론부터 말하자면,\n",
    "함수\n",
    "$$f: \\mathbb{R}^{d_\\mathrm{in}} \\rightarrow \\mathbb{R}^{d_\\mathrm{out}}$$\n",
    "가 있을 때\n",
    "$d_\\mathrm{in} < d_\\mathrm{out}$ 인 경우에 forward mode가 빠르고,\n",
    "반대의 경우 $d_\\mathrm{in} > d_\\mathrm{out}$에 reverse mode가 빠릅니다.\n",
    "\n",
    "Deep Learning의 경우 손실 함수 (Loss function) $L$의 input은 neural network의 parameter $\\theta \\in \\mathbb{R}^p$가 되고, output은 손실 함수의 값 $L(\\theta) \\in \\mathbb{R}$이 됩니다.\n",
    "많은 경우에 $p \\gg 1$ 이므로 reverse mode가 빠릅니다.\n",
    "\n",
    "실험을 통해 보겠습니다."
   ]
  },
  {
   "cell_type": "code",
   "execution_count": 1,
   "metadata": {},
   "outputs": [
    {
     "name": "stderr",
     "output_type": "stream",
     "text": [
      "2024-06-27 11:37:36.347121: W external/xla/xla/service/gpu/nvptx_compiler.cc:765] The NVIDIA driver's CUDA version is 12.4 which is older than the ptxas CUDA version (12.5.40). Because the driver is older than the ptxas version, XLA is disabling parallel compilation, which may slow down compilation. You should update your NVIDIA driver or use the NVIDIA-provided CUDA forward compatibility packages.\n"
     ]
    }
   ],
   "source": [
    "import jax  # AD library JAX를 import 합니다.\n",
    "import jax.numpy as jnp  # jnp는 numpy와 \"거의\" 같습니다.\n",
    "\n",
    "\n",
    "def f(x: float):\n",
    "    # scalar를 받아서 [1, x, ..., x^9999]를 리턴하는 함수, d_in < d_out\n",
    "    return jnp.power(x, jnp.arange(10000))\n",
    "\n",
    "\n",
    "def g(y: jnp.ndarray):\n",
    "    # array를 받아서 제곱한 후 평균을 취하는 함수, d_in > d_out\n",
    "    return (y**2).mean()\n",
    "\n",
    "\n",
    "f_fwd = jax.jacfwd(f)\n",
    "f_rev = jax.jacrev(f)\n",
    "g_fwd = jax.jacfwd(g)\n",
    "g_rev = jax.jacrev(g)\n",
    "\n",
    "x = 1.0\n",
    "y = jnp.ones((10000,))"
   ]
  },
  {
   "cell_type": "markdown",
   "metadata": {},
   "source": [
    "함수 `f`의 경우 $d_\\mathrm{in} = 1 \\ll d_\\mathrm{out} = 10^4$ 이므로, forward mode로 미분한 함수 `f_fwd`가 reverse mode로 미분한 함수 `g_rev`보다 빨라야 합니다."
   ]
  },
  {
   "cell_type": "code",
   "execution_count": 2,
   "metadata": {},
   "outputs": [
    {
     "name": "stdout",
     "output_type": "stream",
     "text": [
      "4.52 ms ± 598 μs per loop (mean ± std. dev. of 7 runs, 1 loop each)\n"
     ]
    }
   ],
   "source": [
    "%timeit f_fwd(x).block_until_ready()"
   ]
  },
  {
   "cell_type": "code",
   "execution_count": 3,
   "metadata": {},
   "outputs": [
    {
     "name": "stdout",
     "output_type": "stream",
     "text": [
      "10.8 ms ± 186 μs per loop (mean ± std. dev. of 7 runs, 1 loop each)\n"
     ]
    }
   ],
   "source": [
    "%timeit f_rev(x).block_until_ready()"
   ]
  },
  {
   "cell_type": "markdown",
   "metadata": {},
   "source": [
    "`f_fwd`가 약 두배 정도 빠른 것을 볼 수 있습니다.\n",
    "\n",
    "반면, 함수 `g`의 경우 $d_\\mathrm{in} = 10^4 \\gg d_\\mathrm{out} = 1$ 이므로, reverse mode로 미분한 함수 `g_rev`가 forward mode로 미분한 함수 `g_fwd` 보다 빨라야 합니다."
   ]
  },
  {
   "cell_type": "code",
   "execution_count": 4,
   "metadata": {},
   "outputs": [
    {
     "name": "stdout",
     "output_type": "stream",
     "text": [
      "11.9 ms ± 139 μs per loop (mean ± std. dev. of 7 runs, 1 loop each)\n"
     ]
    }
   ],
   "source": [
    "%timeit g_fwd(y).block_until_ready()"
   ]
  },
  {
   "cell_type": "code",
   "execution_count": 5,
   "metadata": {},
   "outputs": [
    {
     "name": "stdout",
     "output_type": "stream",
     "text": [
      "6.36 ms ± 287 μs per loop (mean ± std. dev. of 7 runs, 1 loop each)\n"
     ]
    }
   ],
   "source": [
    "%timeit g_rev(y).block_until_ready()"
   ]
  },
  {
   "cell_type": "markdown",
   "metadata": {},
   "source": [
    "`g_rev`가 약 두배 정도 빠른 것을 볼 수 있습니다.\n",
    "\n"
   ]
  },
  {
   "cell_type": "markdown",
   "metadata": {},
   "source": [
    "## AD 이해하기"
   ]
  },
  {
   "cell_type": "markdown",
   "metadata": {},
   "source": []
  }
 ],
 "metadata": {
  "kernelspec": {
   "display_name": "mas557",
   "language": "python",
   "name": "python3"
  },
  "language_info": {
   "codemirror_mode": {
    "name": "ipython",
    "version": 3
   },
   "file_extension": ".py",
   "mimetype": "text/x-python",
   "name": "python",
   "nbconvert_exporter": "python",
   "pygments_lexer": "ipython3",
   "version": "3.12.4"
  }
 },
 "nbformat": 4,
 "nbformat_minor": 2
}
